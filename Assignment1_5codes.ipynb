{
  "nbformat": 4,
  "nbformat_minor": 0,
  "metadata": {
    "colab": {
      "provenance": []
    },
    "kernelspec": {
      "name": "python3",
      "display_name": "Python 3"
    },
    "language_info": {
      "name": "python"
    }
  },
  "cells": [
    {
      "cell_type": "code",
      "execution_count": 5,
      "metadata": {
        "colab": {
          "base_uri": "https://localhost:8080/"
        },
        "id": "tgsvJzp2k6eD",
        "outputId": "bc1a1887-8681-45a1-d5d9-679ed8734834"
      },
      "outputs": [
        {
          "output_type": "stream",
          "name": "stdout",
          "text": [
            "Enter the letter form A to ZD\n",
            "D  is a consonent\n"
          ]
        }
      ],
      "source": [
        "#1) determine whether the given letter is vowel or consonent\n",
        "l=input(\"Enter the letter form A to Z\")\n",
        "if l=='a' or l=='e' or l=='i' or l=='o' or l=='u':\n",
        "  print(l,\" is a small letter vowel\")\n",
        "elif l=='A' or l=='E' or l=='I' or l=='O' or l=='U':\n",
        "  print(l,\" is a capital letter vowel\")\n",
        "else:\n",
        "  print(l,\" is a consonent\")"
      ]
    },
    {
      "cell_type": "code",
      "source": [
        "#2) alculating average of marks and giving grades\n",
        "math_marks=int(input(\"Enter the math marks\"))\n",
        "science_marks=int(input(\"Enter the science marks\"))\n",
        "english_marks=int(input(\"Enter the english marks\"))\n",
        "kannada_marks=int(input(\"Enter the kannada marks\"))\n",
        "sum=math_marks+science_marks+english_marks+kannada_marks\n",
        "avg=sum//4\n",
        "if avg>=91:\n",
        "  print(\"S grade\")\n",
        "elif avg>=81 and avg<91:\n",
        "  print(\"A grade\")\n",
        "elif avg>=71 and avg<81:\n",
        "  print(\"B grade\")\n",
        "elif avg>=61 and avg<71:\n",
        "  print(\"C grade\")\n",
        "elif avg>=51 and avg<61:\n",
        "  print(\"D grade\")\n",
        "else:\n",
        "  print(\"Student is fail\")\n",
        "\n"
      ],
      "metadata": {
        "colab": {
          "base_uri": "https://localhost:8080/"
        },
        "id": "ip9hQiXIqk-n",
        "outputId": "d0761a44-22c1-4601-cdd1-14bc8337be69"
      },
      "execution_count": 8,
      "outputs": [
        {
          "output_type": "stream",
          "name": "stdout",
          "text": [
            "Enter the math marks45\n",
            "Enter the science marks45\n",
            "Enter the english marks45\n",
            "Enter the kannada marks45\n",
            "Student is fail\n"
          ]
        }
      ]
    },
    {
      "cell_type": "code",
      "source": [
        "#3) To calculate total payment of employee by adding bonus\n",
        "basic_pay=int(input(\"Enter the basic pay of employee\"))\n",
        "if basic_pay>=40000:\n",
        "  salary=basic_pay+(basic_pay*0.3)\n",
        "  print(\"salary is \",salary)\n",
        "elif basic_pay>=25000 and basic_pay<40000:\n",
        "  salary=basic_pay+(basic_pay*0.2)\n",
        "  print(\"salary is \",salary)\n",
        "else:\n",
        "  salary=basic_pay+(basic_pay*0.1)\n",
        "  print(\"salary is \",salary)"
      ],
      "metadata": {
        "colab": {
          "base_uri": "https://localhost:8080/"
        },
        "id": "tgsDEVcVsaMm",
        "outputId": "2dfdb687-ccc1-4a14-b33e-6a4a6903e400"
      },
      "execution_count": 9,
      "outputs": [
        {
          "output_type": "stream",
          "name": "stdout",
          "text": [
            "Enter the basic pay of employee50000\n",
            "salary is  65000.0\n"
          ]
        }
      ]
    },
    {
      "cell_type": "code",
      "source": [
        "#4) simple calculator\n",
        "a=int(input(\"Enter two numbers\"))\n",
        "b=int(input())\n",
        "oper=input(\"Enter the operation\")\n",
        "if oper=='+':\n",
        "  print(\"Addition of \",a,\"and\",b,\"is\",a+b)\n",
        "elif oper=='-':\n",
        "  print(\"Substraction of \",a,\"and\",b,\"is\",a-b)\n",
        "elif oper=='*':\n",
        "  print(\"Substraction of \",a,\"and\",b,\"is\",a*b)\n",
        "elif oper=='/':\n",
        "  print(\"Substraction of \",a,\"and\",b,\"is\",a/b)"
      ],
      "metadata": {
        "colab": {
          "base_uri": "https://localhost:8080/"
        },
        "id": "-hMhC1fAuZkV",
        "outputId": "b41f85c7-140a-44ce-ce68-2b0e75bb817b"
      },
      "execution_count": 12,
      "outputs": [
        {
          "output_type": "stream",
          "name": "stdout",
          "text": [
            "Enter two numbers45\n",
            "5\n",
            "Enter the operation/\n",
            "Substraction of  45 and 5 is 9.0\n"
          ]
        }
      ]
    },
    {
      "cell_type": "code",
      "source": [
        "#5) day of week\n",
        "day=int(input(\"Enter the day of week number\"))\n",
        "if day==1:\n",
        "  print(\"The day is Monday\")\n",
        "elif day==2:\n",
        "  print(\"The day is Tuesday\")\n",
        "elif day==3:\n",
        "  print(\"The day is Wednasday\")\n",
        "elif day==4:\n",
        "  print(\"The day is Thursday\")\n",
        "elif day==5:\n",
        "  print(\"The day is Friday\")\n",
        "elif day==6:\n",
        "  print(\"The day is Saturday\")\n",
        "elif day==7:\n",
        "  print(\"The day is Sunday\")\n",
        "else:\n",
        "  print(\"Enter valid number\")"
      ],
      "metadata": {
        "colab": {
          "base_uri": "https://localhost:8080/"
        },
        "id": "zbTJ4tTtvYtt",
        "outputId": "66139b42-d764-47bf-9b46-186d48c97ccb"
      },
      "execution_count": 14,
      "outputs": [
        {
          "output_type": "stream",
          "name": "stdout",
          "text": [
            "Enter the day of week number10\n",
            "Enter valid number\n"
          ]
        }
      ]
    }
  ]
}